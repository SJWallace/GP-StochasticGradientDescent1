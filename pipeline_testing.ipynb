{
 "cells": [
  {
   "cell_type": "code",
   "id": "initial_id",
   "metadata": {
    "collapsed": true,
    "ExecuteTime": {
     "end_time": "2024-12-11T11:42:23.614174Z",
     "start_time": "2024-12-11T11:42:23.612331Z"
    }
   },
   "source": [
    ""
   ],
   "outputs": [],
   "execution_count": null
  },
  {
   "metadata": {
    "ExecuteTime": {
     "end_time": "2024-12-11T11:42:23.708685Z",
     "start_time": "2024-12-11T11:42:23.615177Z"
    }
   },
   "cell_type": "code",
   "source": [
    "# Import libraries\n",
    "import pandas as pd\n",
    "import seaborn as sns\n",
    "import numpy as np\n",
    "import matplotlib.pyplot as plt\n",
    "from sklearn.model_selection import train_test_split\n",
    "from sklearn.metrics import mean_squared_error, mean_absolute_error, r2_score\n",
    "from sklearn.linear_model import SGDRegressor\n",
    "from sklearn.preprocessing import StandardScaler\n",
    "from sklearn.pipeline import Pipeline"
   ],
   "id": "bd21378c6355fec",
   "outputs": [],
   "execution_count": 1
  },
  {
   "metadata": {
    "ExecuteTime": {
     "end_time": "2024-12-11T11:42:23.828011Z",
     "start_time": "2024-12-11T11:42:23.789475Z"
    }
   },
   "cell_type": "code",
   "source": "gym_data = pd.read_csv('crowdness_gym_data.csv')",
   "id": "91a59a60419aa263",
   "outputs": [],
   "execution_count": 2
  },
  {
   "metadata": {
    "ExecuteTime": {
     "end_time": "2024-12-11T11:43:10.148738Z",
     "start_time": "2024-12-11T11:43:10.119142Z"
    }
   },
   "cell_type": "code",
   "source": [
    "# Helper function to check dataset compatibility with SGDRegressor\n",
    "def check_and_fix_dataframe_dtypes(X):\n",
    "    \"\"\"Attempts to convert all features in a DataFrame to numeric for SGD Regressor.\"\"\"\n",
    "    X_numeric = X.apply(pd.to_numeric, errors='coerce')  # Attempt to convert to numeric, set invalid values to NaN\n",
    "    non_numeric_columns = X.columns[X_numeric.isna().any()].tolist()  # Identify columns with non-numeric entries\n",
    "    X_cleaned = X_numeric.dropna(axis=1)  # Drop columns with non-numeric entries\n",
    "    if X_numeric.shape[1] != X_cleaned.shape[1]:\n",
    "        print(\"Some non-numeric columns were dropped:\")\n",
    "        print(non_numeric_columns)\n",
    "    else:\n",
    "        print(\"All features are now numeric and compatible with SGD Regressor.\")\n",
    "    return X_cleaned\n",
    "\n",
    "# Check and fix the feature dtypes\n",
    "gym_data_ready = check_and_fix_dataframe_dtypes(gym_data)"
   ],
   "id": "2a79a9f3c0d736d9",
   "outputs": [
    {
     "name": "stdout",
     "output_type": "stream",
     "text": [
      "Some non-numeric columns were dropped:\n",
      "['date']\n"
     ]
    }
   ],
   "execution_count": 4
  },
  {
   "metadata": {
    "ExecuteTime": {
     "end_time": "2024-12-11T11:43:13.511718Z",
     "start_time": "2024-12-11T11:43:13.425420Z"
    }
   },
   "cell_type": "code",
   "source": [
    "# Make a pipeline that scales and uses SGDRegressor to fit the data\n",
    "pipeline = Pipeline([\n",
    "    ('scaler', StandardScaler()),\n",
    "    ('sgd_regressor', SGDRegressor())\n",
    "])\n",
    "\n",
    "# Define features and target variable\n",
    "# Assuming gym_data has columns 'features' for independent variables and 'target' for the dependent variable\n",
    "X = gym_data_ready.drop(columns=['number_people'])  # Adjust 'number_people' to match the actual column name\n",
    "y = gym_data_ready['number_people']\n",
    "\n",
    "# Fix dataframe dtypes for compatibility\n",
    "X = check_and_fix_dataframe_dtypes(X)\n",
    "\n",
    "# Split the data\n",
    "X_train, X_test, y_train, y_test = train_test_split(X, y, test_size=0.2, random_state=42)\n",
    "\n",
    "# Train the pipeline\n",
    "pipeline.fit(X_train, y_train)\n",
    "\n",
    "# Evaluate the model\n",
    "y_pred = pipeline.predict(X_test)\n",
    "print(f\"Mean Squared Error: {mean_squared_error(y_test, y_pred)}\")\n",
    "print(f\"Mean Absolute Error: {mean_absolute_error(y_test, y_pred)}\")\n",
    "print(f\"R2 Score: {r2_score(y_test, y_pred)}\")"
   ],
   "id": "78accef0dbbb0222",
   "outputs": [
    {
     "name": "stdout",
     "output_type": "stream",
     "text": [
      "All features are now numeric and compatible with SGD Regressor.\n",
      "Mean Squared Error: 251.03041289356534\n",
      "Mean Absolute Error: 12.110099119631247\n",
      "R2 Score: 0.5143048655317342\n"
     ]
    }
   ],
   "execution_count": 5
  },
  {
   "metadata": {
    "ExecuteTime": {
     "end_time": "2024-12-11T11:48:48.200625Z",
     "start_time": "2024-12-11T11:44:33.827054Z"
    }
   },
   "cell_type": "code",
   "source": [
    "# Perform hyperparameter search using GridSearchCV\n",
    "from sklearn.model_selection import GridSearchCV\n",
    "\n",
    "# Define parameters for hyperparameter search\n",
    "param_grid = {\n",
    "    'sgd_regressor__alpha': [0.0001, 0.001, 0.01, 0.1],\n",
    "    'sgd_regressor__penalty': ['l2', 'l1', 'elasticnet'],\n",
    "    'sgd_regressor__eta0': [0.01, 0.1, 0.5],\n",
    "    'sgd_regressor__max_iter': [1000, 2000, 3000]\n",
    "}\n",
    "\n",
    "# Wrap the pipeline with GridSearchCV\n",
    "grid_search = GridSearchCV(pipeline, param_grid, cv=5, scoring='r2')\n",
    "\n",
    "# Fit the grid search to the training data\n",
    "grid_search.fit(X_train, y_train)\n",
    "\n",
    "# Evaluate the best model\n",
    "print(f\"Best Parameters: {grid_search.best_params_}\")\n",
    "y_pred = grid_search.best_estimator_.predict(X_test)\n",
    "print(f\"Mean Squared Error: {mean_squared_error(y_test, y_pred)}\")\n",
    "print(f\"Mean Absolute Error: {mean_absolute_error(y_test, y_pred)}\")\n",
    "print(f\"R2 Score: {r2_score(y_test, y_pred)}\")"
   ],
   "id": "46bc9456a9faf41b",
   "outputs": [
    {
     "name": "stderr",
     "output_type": "stream",
     "text": [
      "C:\\Users\\User\\Dataquest.IO\\Guided Project - Popular Data Science Questions\\GuidedProjectDataScienceQuestions\\venv\\Lib\\site-packages\\sklearn\\linear_model\\_stochastic_gradient.py:1616: ConvergenceWarning: Maximum number of iteration reached before convergence. Consider increasing max_iter to improve the fit.\n",
      "  warnings.warn(\n",
      "C:\\Users\\User\\Dataquest.IO\\Guided Project - Popular Data Science Questions\\GuidedProjectDataScienceQuestions\\venv\\Lib\\site-packages\\sklearn\\linear_model\\_stochastic_gradient.py:1616: ConvergenceWarning: Maximum number of iteration reached before convergence. Consider increasing max_iter to improve the fit.\n",
      "  warnings.warn(\n"
     ]
    },
    {
     "name": "stdout",
     "output_type": "stream",
     "text": [
      "Best Parameters: {'sgd_regressor__alpha': 0.0001, 'sgd_regressor__eta0': 0.01, 'sgd_regressor__max_iter': 3000, 'sgd_regressor__penalty': 'l2'}\n",
      "Mean Squared Error: 251.1063612387778\n",
      "Mean Absolute Error: 12.106971907943624\n",
      "R2 Score: 0.5141579202221384\n"
     ]
    }
   ],
   "execution_count": 6
  }
 ],
 "metadata": {
  "kernelspec": {
   "display_name": "Python 3",
   "language": "python",
   "name": "python3"
  },
  "language_info": {
   "codemirror_mode": {
    "name": "ipython",
    "version": 2
   },
   "file_extension": ".py",
   "mimetype": "text/x-python",
   "name": "python",
   "nbconvert_exporter": "python",
   "pygments_lexer": "ipython2",
   "version": "2.7.6"
  }
 },
 "nbformat": 4,
 "nbformat_minor": 5
}
